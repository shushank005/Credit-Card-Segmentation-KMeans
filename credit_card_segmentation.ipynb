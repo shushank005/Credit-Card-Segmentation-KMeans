{
 "cells": [
  {
   "cell_type": "code",
   "execution_count": null,
   "id": "6879712b",
   "metadata": {},
   "outputs": [
    {
     "name": "stdout",
     "output_type": "stream",
     "text": [
      "shushank\n",
      "nitish\n"
     ]
    }
   ],
   "source": [
    "# Import necessary libraries\n",
    "import pandas as pd\n",
    "from sklearn.preprocessing import StandardScaler\n",
    "from sklearn.cluster import KMeans\n",
    "\n",
    "# --- 1. Data Loading and Cleaning ---\n",
    "# Load the dataset\n",
    "df = pd.read_csv(\"CC GENERAL.csv\")\n",
    "\n",
    "# Drop the customer ID as it's not a useful feature for clustering\n",
    "df = df.drop(\"CUST_ID\", axis=1)\n",
    "\n",
    "# Handle missing values by filling them with the mean of their respective columns\n",
    "df.fillna(df.mean(), inplace=True)\n",
    "\n",
    "# Create a copy of the original data to analyze the clusters later\n",
    "df_original_for_analysis = df.copy() \n",
    "\n",
    "# --- 2. Feature Scaling ---\n",
    "# Scale the data so that all features have equal importance\n",
    "scaler = StandardScaler()\n",
    "X_scaled = scaler.fit_transform(df)\n",
    "\n",
    "# --- 3. K-Means Model Training ---\n",
    "# Train the final K-Means model with 8 clusters (assuming K=8 was found to be optimal)\n",
    "final_kmeans = KMeans(n_clusters=8, n_init=10, random_state=42)\n",
    "cluster_labels = final_kmeans.fit_predict(X_scaled)\n",
    "\n",
    "# --- 4. Cluster Analysis ---\n",
    "# Add the cluster labels back to the original (unscaled) dataframe\n",
    "df_original_for_analysis['Cluster'] = cluster_labels\n",
    "\n",
    "# Calculate the average values of features for each cluster\n",
    "cluster_analysis = df_original_for_analysis.groupby('Cluster').mean()\n",
    "\n",
    "# Print the final results\n",
    "print(\"--- Cluster Analysis Results ---\")\n",
    "print(cluster_analysis)"
   ]
  }
 ],
 "metadata": {
  "kernelspec": {
   "display_name": "Python 3",
   "language": "python",
   "name": "python3"
  },
  "language_info": {
   "codemirror_mode": {
    "name": "ipython",
    "version": 3
   },
   "file_extension": ".py",
   "mimetype": "text/x-python",
   "name": "python",
   "nbconvert_exporter": "python",
   "pygments_lexer": "ipython3",
   "version": "3.13.2"
  }
 },
 "nbformat": 4,
 "nbformat_minor": 5
}
